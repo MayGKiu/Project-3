{
 "cells": [
  {
   "cell_type": "markdown",
   "id": "4000dbe3-ba63-4cea-b6fd-4b68dedf12ce",
   "metadata": {},
   "source": [
    "### 1. Import libraries and datasets"
   ]
  },
  {
   "cell_type": "code",
   "execution_count": 129,
   "id": "13e145c0-70cd-4076-96ca-9cf43be5f748",
   "metadata": {},
   "outputs": [],
   "source": [
    "# Basic libraries\n",
    "import numpy as np\n",
    "import pandas as pd\n",
    "\n",
    "# Natural Language Processing\n",
    "from sklearn.feature_extraction.text import CountVectorizer, TfidfVectorizer\n",
    "from sklearn.model_selection import train_test_split, GridSearchCV, cross_val_score\n",
    "from sklearn.pipeline import Pipeline\n",
    "from sklearn.linear_model import LogisticRegression\n",
    "from sklearn.metrics import confusion_matrix, classification_report, plot_roc_curve, roc_auc_score, \\\n",
    "                            accuracy_score, precision_score, recall_score, f1_score\n",
    "from sklearn.tree import DecisionTreeClassifier\n",
    "from sklearn.ensemble import RandomForestClassifier, ExtraTreesClassifier, \\\n",
    "                             GradientBoostingClassifier, AdaBoostClassifier, \\\n",
    "                             VotingClassifier\n",
    "from sklearn.naive_bayes import MultinomialNB\n",
    "from sklearn.svm import SVC\n",
    "\n",
    "#Ignore warnings\n",
    "import warnings\n",
    "warnings.filterwarnings('ignore')\n"
   ]
  },
  {
   "cell_type": "code",
   "execution_count": 130,
   "id": "c169cd16-b916-47c8-93c6-67af47dbda2c",
   "metadata": {},
   "outputs": [],
   "source": [
    "# Read the datasets\n",
    "\n",
    "clean_onion = pd.read_csv('./processed_onion.csv')\n",
    "clean_notonion = pd.read_csv('./processed_notonion.csv')"
   ]
  },
  {
   "cell_type": "code",
   "execution_count": 131,
   "id": "63e8f68c-80d1-4c2e-beea-d3de8a1518e0",
   "metadata": {},
   "outputs": [],
   "source": [
    "# combine the datasets\n",
    "\n",
    "combined_df = pd.concat([clean_onion,clean_notonion])"
   ]
  },
  {
   "cell_type": "code",
   "execution_count": 132,
   "id": "90ab65c4-10bb-48ba-af50-8333bb944eeb",
   "metadata": {},
   "outputs": [
    {
     "data": {
      "text/plain": [
       "(8886, 11)"
      ]
     },
     "execution_count": 132,
     "metadata": {},
     "output_type": "execute_result"
    }
   ],
   "source": [
    "combined_df.shape"
   ]
  },
  {
   "cell_type": "code",
   "execution_count": 133,
   "id": "7a4a578a-7ef5-404d-bcdf-9a5e5fda91f8",
   "metadata": {},
   "outputs": [],
   "source": [
    "combined_df.to_csv('combined_df.csv', index=False)"
   ]
  },
  {
   "cell_type": "markdown",
   "id": "0f1391f1-ffb6-4c90-abbd-be9755fe5815",
   "metadata": {},
   "source": [
    "In the previous section, we have performed the text processing and cleaning from the dataset we scrapped from subreddits `r/theonion` and `r/nottheonion`. The next step we will proceed to the following steps:\n",
    "\n",
    "1. Create a baseline model\n",
    "2. To transform the data using vectorizers, Countvectorizer and TfidfVectorizer\n",
    "3. Fit the model to train the datasets\n",
    "4. Evaluate the models base on some evaliation matrics (Precision, ROC-AUC)\n",
    "5. Select the best models and tune hyper-parameters\n",
    "\n",
    "Countvectorizer and TfidfVectorizer are used to convert the text to a numeric form. Term Frequency Inverse Document Frequency (TFIDF) works by roportionally increasing the number of times a word appears in the document but is counterbalanced by the number of documents in which it is present. While Countvectorizeralso called Bag-of-Words which converts text into fixed-length vectors by counting how many times each word appears.\n",
    "\n",
    "We will select a range of classification techniques to test including Logistic Regression,Random Forest and Support Vector Machine (SVM) classification."
   ]
  },
  {
   "cell_type": "markdown",
   "id": "10a213c7-526a-4240-b4ed-67644d9d13fd",
   "metadata": {},
   "source": [
    "### 2. Baseline Model"
   ]
  },
  {
   "cell_type": "markdown",
   "id": "5faede1a-c3b5-432f-ba28-0f1d602a8156",
   "metadata": {},
   "source": [
    "#### 2a. Binarize Target subreddit"
   ]
  },
  {
   "cell_type": "code",
   "execution_count": 134,
   "id": "41a7f2a3-a6aa-4dbc-bc37-f60ea8d0de31",
   "metadata": {},
   "outputs": [
    {
     "data": {
      "text/html": [
       "<div>\n",
       "<style scoped>\n",
       "    .dataframe tbody tr th:only-of-type {\n",
       "        vertical-align: middle;\n",
       "    }\n",
       "\n",
       "    .dataframe tbody tr th {\n",
       "        vertical-align: top;\n",
       "    }\n",
       "\n",
       "    .dataframe thead th {\n",
       "        text-align: right;\n",
       "    }\n",
       "</style>\n",
       "<table border=\"1\" class=\"dataframe\">\n",
       "  <thead>\n",
       "    <tr style=\"text-align: right;\">\n",
       "      <th></th>\n",
       "      <th>subreddit</th>\n",
       "      <th>author</th>\n",
       "      <th>domain</th>\n",
       "      <th>title</th>\n",
       "      <th>num_comments</th>\n",
       "      <th>score</th>\n",
       "      <th>timestamp</th>\n",
       "      <th>tokens</th>\n",
       "      <th>tokens_1</th>\n",
       "      <th>lemma_words</th>\n",
       "      <th>clean_text</th>\n",
       "      <th>type</th>\n",
       "    </tr>\n",
       "  </thead>\n",
       "  <tbody>\n",
       "    <tr>\n",
       "      <th>0</th>\n",
       "      <td>TheOnion</td>\n",
       "      <td>mothershipq</td>\n",
       "      <td>theonion.com</td>\n",
       "      <td>surgeon kind pissed patient seeing deformed fa...</td>\n",
       "      <td>0</td>\n",
       "      <td>1</td>\n",
       "      <td>2021-12-31</td>\n",
       "      <td>['surgeon', 'kind', 'pissed', 'patient', 'seei...</td>\n",
       "      <td>['surgeon', 'kind', 'pissed', 'patient', 'seei...</td>\n",
       "      <td>['surgeon', 'kind', 'pissed', 'patient', 'seei...</td>\n",
       "      <td>surgeon kind pissed patient seeing deformed fa...</td>\n",
       "      <td>1</td>\n",
       "    </tr>\n",
       "    <tr>\n",
       "      <th>1</th>\n",
       "      <td>TheOnion</td>\n",
       "      <td>-ImYourHuckleberry-</td>\n",
       "      <td>theartnewspaper.com</td>\n",
       "      <td>mcdonald’s blocked building drivethrough romes...</td>\n",
       "      <td>1</td>\n",
       "      <td>1</td>\n",
       "      <td>2021-12-31</td>\n",
       "      <td>['mcdonald’s', 'blocked', 'building', 'driveth...</td>\n",
       "      <td>['mcdonald', 'blocked', 'building', 'drivethro...</td>\n",
       "      <td>['mcdonald', 'blocked', 'building', 'drivethro...</td>\n",
       "      <td>mcdonald blocked building drivethrough rome an...</td>\n",
       "      <td>1</td>\n",
       "    </tr>\n",
       "  </tbody>\n",
       "</table>\n",
       "</div>"
      ],
      "text/plain": [
       "  subreddit               author               domain  \\\n",
       "0  TheOnion          mothershipq         theonion.com   \n",
       "1  TheOnion  -ImYourHuckleberry-  theartnewspaper.com   \n",
       "\n",
       "                                               title  num_comments  score  \\\n",
       "0  surgeon kind pissed patient seeing deformed fa...             0      1   \n",
       "1  mcdonald’s blocked building drivethrough romes...             1      1   \n",
       "\n",
       "    timestamp                                             tokens  \\\n",
       "0  2021-12-31  ['surgeon', 'kind', 'pissed', 'patient', 'seei...   \n",
       "1  2021-12-31  ['mcdonald’s', 'blocked', 'building', 'driveth...   \n",
       "\n",
       "                                            tokens_1  \\\n",
       "0  ['surgeon', 'kind', 'pissed', 'patient', 'seei...   \n",
       "1  ['mcdonald', 'blocked', 'building', 'drivethro...   \n",
       "\n",
       "                                         lemma_words  \\\n",
       "0  ['surgeon', 'kind', 'pissed', 'patient', 'seei...   \n",
       "1  ['mcdonald', 'blocked', 'building', 'drivethro...   \n",
       "\n",
       "                                          clean_text  type  \n",
       "0  surgeon kind pissed patient seeing deformed fa...     1  \n",
       "1  mcdonald blocked building drivethrough rome an...     1  "
      ]
     },
     "execution_count": 134,
     "metadata": {},
     "output_type": "execute_result"
    }
   ],
   "source": [
    "# Replace `TheOnion` with 1, `nottheonion` with 0\n",
    "combined_df[\"type\"] = combined_df[\"subreddit\"].map({\"nottheonion\": 0, \"TheOnion\": 1})\n",
    "\n",
    "\n",
    "# Preview head of df to show 1s\n",
    "combined_df.head(2)"
   ]
  },
  {
   "cell_type": "markdown",
   "id": "3854e986-f835-4abe-b28a-e382464ca29f",
   "metadata": {},
   "source": [
    "#### 2b. Baseline Model"
   ]
  },
  {
   "cell_type": "code",
   "execution_count": 135,
   "id": "d392e1dc-9787-4c2c-8c19-1a422c4590cb",
   "metadata": {},
   "outputs": [
    {
     "data": {
      "text/plain": [
       "0    0.857529\n",
       "1    0.142471\n",
       "Name: type, dtype: float64"
      ]
     },
     "execution_count": 135,
     "metadata": {},
     "output_type": "execute_result"
    }
   ],
   "source": [
    "# Baseline\n",
    "y = combined_df['type']\n",
    "y.value_counts(normalize=True)"
   ]
  },
  {
   "cell_type": "markdown",
   "id": "d7bab01c-4d8a-4dc8-a520-222e62585b4b",
   "metadata": {},
   "source": [
    "The baseline model normalised the value of y which is the simplest model that we can expect the model to be better than 85.7%. The majority class is from true news - `r/nottheonion`."
   ]
  },
  {
   "cell_type": "markdown",
   "id": "88caea77-9ee2-4c21-a778-83ba0de8c4e9",
   "metadata": {},
   "source": [
    "### 3. Model preparation"
   ]
  },
  {
   "cell_type": "code",
   "execution_count": 136,
   "id": "38d4021d-729b-4e62-9183-f177a30801a6",
   "metadata": {},
   "outputs": [],
   "source": [
    "# To set the y (target) and x (preditor) variables\n",
    "\n",
    "X = combined_df['clean_text']\n",
    "y = combined_df['type']"
   ]
  },
  {
   "cell_type": "code",
   "execution_count": 137,
   "id": "5e8f5090-9ab6-48d9-9821-6108d476e064",
   "metadata": {},
   "outputs": [],
   "source": [
    "# Split our data into train and test data. We're stratifying here to ensure that the train and test sets \n",
    "# have approximately the same percentage of samples in order to avoid imbalanced classes.\n",
    "X_train, X_test, y_train, y_test = train_test_split(X, y, test_size=0.3, stratify=y, random_state=42)"
   ]
  },
  {
   "cell_type": "code",
   "execution_count": 138,
   "id": "29661106-1eaf-403f-94e4-6bb961d354ce",
   "metadata": {},
   "outputs": [],
   "source": [
    "# Create list to store model testing results\n",
    "eval_list = []"
   ]
  },
  {
   "cell_type": "code",
   "execution_count": 139,
   "id": "3587821e-2904-4941-ab47-6ceee051a000",
   "metadata": {},
   "outputs": [],
   "source": [
    "# Instantiate vectorizers\n",
    "vectorizers = {'cvec': CountVectorizer(),\n",
    "               'tvec': TfidfVectorizer()}"
   ]
  },
  {
   "cell_type": "code",
   "execution_count": 140,
   "id": "709f14d9-7ae2-4021-9598-6eac382bdfab",
   "metadata": {},
   "outputs": [],
   "source": [
    "# Instiantiate models\n",
    "models = {'lr': LogisticRegression(max_iter=100, random_state=42),\n",
    "          'rf': RandomForestClassifier(random_state=42),\n",
    "          'svc': SVC(random_state=42)}"
   ]
  },
  {
   "cell_type": "code",
   "execution_count": 141,
   "id": "b3bd683d-98df-4bd1-b677-d4fd507ef8ca",
   "metadata": {},
   "outputs": [],
   "source": [
    "# Function to run model -- input vectorizer and model\n",
    "def run_model(vec, mod, vec_params={}, mod_params={}, grid_search=False):\n",
    "    \n",
    "    results = {}\n",
    "    \n",
    "    pipe = Pipeline([\n",
    "            (vec, vectorizers[vec]),\n",
    "            (mod, models[mod])\n",
    "            ])\n",
    "    \n",
    "    if grid_search:\n",
    "        gs = GridSearchCV(pipe, param_grid = {**vec_params, **mod_params}, cv=5, verbose=1, n_jobs=-1)\n",
    "        gs.fit(X_train, y_train)\n",
    "        pipe = gs\n",
    "        \n",
    "    else:\n",
    "        pipe.fit(X_train, y_train)\n",
    "        \n",
    "      # Retrieve metrics\n",
    "    results['model'] = mod\n",
    "    results['vectorizer'] = vec\n",
    "    results['train'] = pipe.score(X_train, y_train)\n",
    "    results['test'] = pipe.score(X_test, y_test)\n",
    "    results['roc'] = roc_auc_score(y_test, predictions)\n",
    "    results['precision'] = precision_score(y_test, predictions)\n",
    "   \n",
    "    \n",
    "    if grid_search:\n",
    "        tuning_list.append(results)\n",
    "        print('### BEST PARAMS ###')\n",
    "        display(pipe.best_params_)\n",
    "        \n",
    "    else:\n",
    "        eval_list.append(results)\n",
    "    \n",
    "    print('### METRICS ###')\n",
    "    display(results)\n",
    "    \n",
    "    tn, fp, fn, tp = confusion_matrix(y_test, predictions).ravel()\n",
    "    print(f\"True Negatives: {tn}\")\n",
    "    print(f\"False Positives: {fp}\")\n",
    "    print(f\"False Negatives: {fn}\")\n",
    "    print(f\"True Positives: {tp}\")\n",
    "    \n",
    "    return pipe"
   ]
  },
  {
   "cell_type": "markdown",
   "id": "af8cb48a-db75-45fb-aef8-20c2f7f30abd",
   "metadata": {},
   "source": [
    "### 4. Models Testing"
   ]
  },
  {
   "cell_type": "markdown",
   "id": "265ac781-6fab-40ab-b54c-604140861980",
   "metadata": {},
   "source": [
    "#### 4a. Logistic Regression"
   ]
  },
  {
   "cell_type": "markdown",
   "id": "5e7a5f99-1e77-4d05-9b9a-2a165c6daab0",
   "metadata": {},
   "source": [
    "Logistic Regression is very easy to understand and requires less training. It performs well for simple datasets and they are easier to implement, interpret, and very efficient to train."
   ]
  },
  {
   "cell_type": "code",
   "execution_count": 142,
   "id": "da951d48-588c-4ca4-b710-f902e6d2c004",
   "metadata": {
    "tags": []
   },
   "outputs": [
    {
     "name": "stdout",
     "output_type": "stream",
     "text": [
      "### METRICS ###\n"
     ]
    },
    {
     "data": {
      "text/plain": [
       "{'model': 'lr',\n",
       " 'vectorizer': 'cvec',\n",
       " 'train': 0.9721864951768489,\n",
       " 'test': 0.8747186796699175,\n",
       " 'roc': 0.5901471197679238,\n",
       " 'precision': 0.73}"
      ]
     },
     "metadata": {},
     "output_type": "display_data"
    },
    {
     "name": "stdout",
     "output_type": "stream",
     "text": [
      "True Negatives: 2259\n",
      "False Positives: 27\n",
      "False Negatives: 307\n",
      "True Positives: 73\n"
     ]
    }
   ],
   "source": [
    "# Logistic Regression with CountVectorizer\n",
    "cvec_lr = run_model('cvec', 'lr')"
   ]
  },
  {
   "cell_type": "code",
   "execution_count": 143,
   "id": "d4c3f093-c14c-43ac-a4ac-9c69104c62fe",
   "metadata": {
    "tags": []
   },
   "outputs": [
    {
     "name": "stdout",
     "output_type": "stream",
     "text": [
      "### METRICS ###\n"
     ]
    },
    {
     "data": {
      "text/plain": [
       "{'model': 'lr',\n",
       " 'vectorizer': 'tvec',\n",
       " 'train': 0.8667202572347267,\n",
       " 'test': 0.8623405851462865,\n",
       " 'roc': 0.5182023299719113,\n",
       " 'precision': 0.9333333333333333}"
      ]
     },
     "metadata": {},
     "output_type": "display_data"
    },
    {
     "name": "stdout",
     "output_type": "stream",
     "text": [
      "True Negatives: 2285\n",
      "False Positives: 1\n",
      "False Negatives: 366\n",
      "True Positives: 14\n"
     ]
    }
   ],
   "source": [
    "# Logistic Regression with TfdifVectorizer\n",
    "tvec_lr = run_model('tvec', 'lr')"
   ]
  },
  {
   "cell_type": "markdown",
   "id": "3c494179-195d-4787-9144-1cf3486c2569",
   "metadata": {},
   "source": [
    "#### 4b. Random Forest"
   ]
  },
  {
   "cell_type": "markdown",
   "id": "1a1bd94a-0d7c-4191-b289-1e8401eda7ac",
   "metadata": {},
   "source": [
    "Random forests are a supervised Machine learning algorithm that is widely used in regression and classification problems and produces, even without hyperparameter tuning a great result most of the time. It is perhaps the most used algorithm because of its simplicity. It builds a number of decision trees on different samples and then takes the majority vote if it’s a classification problem."
   ]
  },
  {
   "cell_type": "code",
   "execution_count": 144,
   "id": "3d005990-2478-4473-86dc-19d9a7c43507",
   "metadata": {
    "tags": []
   },
   "outputs": [
    {
     "name": "stdout",
     "output_type": "stream",
     "text": [
      "### METRICS ###\n"
     ]
    },
    {
     "data": {
      "text/plain": [
       "{'model': 'rf',\n",
       " 'vectorizer': 'cvec',\n",
       " 'train': 0.9995176848874598,\n",
       " 'test': 0.8619654913728432,\n",
       " 'roc': 0.5618662798729106,\n",
       " 'precision': 0.5625}"
      ]
     },
     "metadata": {},
     "output_type": "display_data"
    },
    {
     "name": "stdout",
     "output_type": "stream",
     "text": [
      "True Negatives: 2244\n",
      "False Positives: 42\n",
      "False Negatives: 326\n",
      "True Positives: 54\n"
     ]
    }
   ],
   "source": [
    "# Random Forest with CountVectorizer\n",
    "\n",
    "cvec_rf = run_model('cvec', 'rf')"
   ]
  },
  {
   "cell_type": "code",
   "execution_count": 145,
   "id": "dcb70fb4-2737-4543-bad3-16fa64015cd4",
   "metadata": {},
   "outputs": [
    {
     "name": "stdout",
     "output_type": "stream",
     "text": [
      "### METRICS ###\n"
     ]
    },
    {
     "data": {
      "text/plain": [
       "{'model': 'rf',\n",
       " 'vectorizer': 'tvec',\n",
       " 'train': 0.9990353697749196,\n",
       " 'test': 0.8642160540135033,\n",
       " 'roc': 0.5587903485748491,\n",
       " 'precision': 0.6097560975609756}"
      ]
     },
     "metadata": {},
     "output_type": "display_data"
    },
    {
     "name": "stdout",
     "output_type": "stream",
     "text": [
      "True Negatives: 2254\n",
      "False Positives: 32\n",
      "False Negatives: 330\n",
      "True Positives: 50\n"
     ]
    }
   ],
   "source": [
    "# Random Forest with TfdifVectorizer\n",
    "\n",
    "tvec_rf = run_model('tvec', 'rf')"
   ]
  },
  {
   "cell_type": "markdown",
   "id": "a1524eb4-278b-4694-90b5-efebbb6656b8",
   "metadata": {},
   "source": [
    "#### 4c. Support Vector Machine Classifier"
   ]
  },
  {
   "cell_type": "markdown",
   "id": "8180a09e-9e9a-4acd-ad02-774e53139574",
   "metadata": {},
   "source": [
    "Support Vector Machine is under  “supervised machine learning algorithms” category. It can be used for classification, as well as for regression. In this model,we perform the process of classification by finding differentiates the two classes."
   ]
  },
  {
   "cell_type": "code",
   "execution_count": 146,
   "id": "549400a2-603b-49a8-b822-c6e30dc4bf14",
   "metadata": {
    "tags": []
   },
   "outputs": [
    {
     "name": "stdout",
     "output_type": "stream",
     "text": [
      "### METRICS ###\n"
     ]
    },
    {
     "data": {
      "text/plain": [
       "{'model': 'svc',\n",
       " 'vectorizer': 'cvec',\n",
       " 'train': 0.9461414790996785,\n",
       " 'test': 0.8649662415603901,\n",
       " 'roc': 0.5285099231017175,\n",
       " 'precision': 0.9166666666666666}"
      ]
     },
     "metadata": {},
     "output_type": "display_data"
    },
    {
     "name": "stdout",
     "output_type": "stream",
     "text": [
      "True Negatives: 2284\n",
      "False Positives: 2\n",
      "False Negatives: 358\n",
      "True Positives: 22\n"
     ]
    }
   ],
   "source": [
    "# Support Vector Machine with CountVectorizer\n",
    "\n",
    "cvec_svc = run_model('cvec', 'svc')"
   ]
  },
  {
   "cell_type": "code",
   "execution_count": 147,
   "id": "14a6d31b-2b10-467e-9433-3e7550702a70",
   "metadata": {},
   "outputs": [
    {
     "name": "stdout",
     "output_type": "stream",
     "text": [
      "### METRICS ###\n"
     ]
    },
    {
     "data": {
      "text/plain": [
       "{'model': 'svc',\n",
       " 'vectorizer': 'tvec',\n",
       " 'train': 0.9678456591639871,\n",
       " 'test': 0.8627156789197299,\n",
       " 'roc': 0.5195181194455956,\n",
       " 'precision': 0.9375}"
      ]
     },
     "metadata": {},
     "output_type": "display_data"
    },
    {
     "name": "stdout",
     "output_type": "stream",
     "text": [
      "True Negatives: 2285\n",
      "False Positives: 1\n",
      "False Negatives: 365\n",
      "True Positives: 15\n"
     ]
    }
   ],
   "source": [
    "# Support Vector Machine with TfdifVectorizer\n",
    "\n",
    "tvec_svc = run_model('tvec', 'svc')"
   ]
  },
  {
   "cell_type": "code",
   "execution_count": 148,
   "id": "6c1dff1a-8f75-4343-9ef2-706dbd05c582",
   "metadata": {},
   "outputs": [],
   "source": [
    "eval_df = pd.DataFrame(eval_list)"
   ]
  },
  {
   "cell_type": "code",
   "execution_count": 149,
   "id": "cdd09271-1841-40ee-99a6-c8458bdbf01d",
   "metadata": {},
   "outputs": [
    {
     "data": {
      "text/html": [
       "<div>\n",
       "<style scoped>\n",
       "    .dataframe tbody tr th:only-of-type {\n",
       "        vertical-align: middle;\n",
       "    }\n",
       "\n",
       "    .dataframe tbody tr th {\n",
       "        vertical-align: top;\n",
       "    }\n",
       "\n",
       "    .dataframe thead th {\n",
       "        text-align: right;\n",
       "    }\n",
       "</style>\n",
       "<table border=\"1\" class=\"dataframe\">\n",
       "  <thead>\n",
       "    <tr style=\"text-align: right;\">\n",
       "      <th></th>\n",
       "      <th>model</th>\n",
       "      <th>vectorizer</th>\n",
       "      <th>train</th>\n",
       "      <th>test</th>\n",
       "      <th>roc</th>\n",
       "      <th>precision</th>\n",
       "    </tr>\n",
       "  </thead>\n",
       "  <tbody>\n",
       "    <tr>\n",
       "      <th>0</th>\n",
       "      <td>lr</td>\n",
       "      <td>cvec</td>\n",
       "      <td>0.972186</td>\n",
       "      <td>0.874719</td>\n",
       "      <td>0.590147</td>\n",
       "      <td>0.730000</td>\n",
       "    </tr>\n",
       "    <tr>\n",
       "      <th>1</th>\n",
       "      <td>svc</td>\n",
       "      <td>cvec</td>\n",
       "      <td>0.946141</td>\n",
       "      <td>0.864966</td>\n",
       "      <td>0.528510</td>\n",
       "      <td>0.916667</td>\n",
       "    </tr>\n",
       "    <tr>\n",
       "      <th>2</th>\n",
       "      <td>rf</td>\n",
       "      <td>tvec</td>\n",
       "      <td>0.999035</td>\n",
       "      <td>0.864216</td>\n",
       "      <td>0.558790</td>\n",
       "      <td>0.609756</td>\n",
       "    </tr>\n",
       "    <tr>\n",
       "      <th>3</th>\n",
       "      <td>svc</td>\n",
       "      <td>tvec</td>\n",
       "      <td>0.967846</td>\n",
       "      <td>0.862716</td>\n",
       "      <td>0.519518</td>\n",
       "      <td>0.937500</td>\n",
       "    </tr>\n",
       "    <tr>\n",
       "      <th>4</th>\n",
       "      <td>lr</td>\n",
       "      <td>tvec</td>\n",
       "      <td>0.866720</td>\n",
       "      <td>0.862341</td>\n",
       "      <td>0.518202</td>\n",
       "      <td>0.933333</td>\n",
       "    </tr>\n",
       "    <tr>\n",
       "      <th>5</th>\n",
       "      <td>rf</td>\n",
       "      <td>cvec</td>\n",
       "      <td>0.999518</td>\n",
       "      <td>0.861965</td>\n",
       "      <td>0.561866</td>\n",
       "      <td>0.562500</td>\n",
       "    </tr>\n",
       "  </tbody>\n",
       "</table>\n",
       "</div>"
      ],
      "text/plain": [
       "  model vectorizer     train      test       roc  precision\n",
       "0    lr       cvec  0.972186  0.874719  0.590147   0.730000\n",
       "1   svc       cvec  0.946141  0.864966  0.528510   0.916667\n",
       "2    rf       tvec  0.999035  0.864216  0.558790   0.609756\n",
       "3   svc       tvec  0.967846  0.862716  0.519518   0.937500\n",
       "4    lr       tvec  0.866720  0.862341  0.518202   0.933333\n",
       "5    rf       cvec  0.999518  0.861965  0.561866   0.562500"
      ]
     },
     "execution_count": 149,
     "metadata": {},
     "output_type": "execute_result"
    }
   ],
   "source": [
    "# Top results \n",
    "\n",
    "eval_df.sort_values(by='test', ascending=False).reset_index(drop=True)"
   ]
  },
  {
   "cell_type": "markdown",
   "id": "aa363cf4-1599-4218-b868-c5846358e3c6",
   "metadata": {},
   "source": [
    "As our Random Forest models don't have coefficients, we'll go with the models that returned the best results across the board -- we can see that both our logistic regression and support vector machine did quite well. We will to section Model tunning below."
   ]
  },
  {
   "cell_type": "markdown",
   "id": "2e36703b-6320-4ebe-be18-8f6f95fac860",
   "metadata": {},
   "source": [
    "### 5. Model Tunnning"
   ]
  },
  {
   "cell_type": "code",
   "execution_count": 150,
   "id": "98eb12bf-302a-40a5-b46f-a7a663e4b2b7",
   "metadata": {},
   "outputs": [],
   "source": [
    "# Instantiate list to store tuning results\n",
    "tuning_list = []"
   ]
  },
  {
   "cell_type": "markdown",
   "id": "c756c249-dc65-4782-8b95-a826c3080b6f",
   "metadata": {},
   "source": [
    "#### 5a. Vectorizer Parameter"
   ]
  },
  {
   "cell_type": "code",
   "execution_count": 175,
   "id": "dcffdb81-566a-4114-bb1c-02f2a8814a24",
   "metadata": {},
   "outputs": [],
   "source": [
    "cvec_params = {\n",
    "    # Setting a limit of n-number of features included/vocab size\n",
    "    'cvec__max_features': [None,9000],\n",
    "\n",
    "    # Setting a minimum number of times the word/token has to appear in n-documents\n",
    "    'cvec__min_df':[3, 4, 5],\n",
    "    \n",
    "    # Setting an upper threshold/max percentage of n% of documents from corpus \n",
    "    'cvec__max_df': [0.2, 0.3, 0.4],\n",
    "    \n",
    "    # With stopwords\n",
    "    'cvec__stop_words': ['english'],\n",
    "    \n",
    "    # Testing with bigrams and trigrams\n",
    "    'cvec__ngram_range':[(1,1), (1,2)],\n",
    "}"
   ]
  },
  {
   "cell_type": "code",
   "execution_count": 168,
   "id": "bfbcd26a-bb7b-40f5-be67-af0fca76c696",
   "metadata": {},
   "outputs": [],
   "source": [
    "tvec_params = {\n",
    "    'tvec__max_features': [None],\n",
    "    'tvec__min_df':[3, 4, 5],\n",
    "    'tvec__max_df': [0.2, 0.3, 0.4],\n",
    "    'tvec__stop_words': ['english'],\n",
    "    'tvec__ngram_range':[(1,1), (1,2)]\n",
    "}"
   ]
  },
  {
   "cell_type": "markdown",
   "id": "2c2c8ee7-c2ba-4406-a154-18b4769cd85c",
   "metadata": {},
   "source": [
    "#### 5b. Model Parameters"
   ]
  },
  {
   "cell_type": "code",
   "execution_count": 169,
   "id": "39f89125-3418-4172-8426-f935b49e649f",
   "metadata": {},
   "outputs": [],
   "source": [
    "lr_params = {\n",
    "    # Trying different types of regularization\n",
    "    'lr__penalty':['l2','l1'],\n",
    "\n",
    "     # Trying different alphas of: 10, 1, 0.1 (C = 1/alpha)\n",
    "    'lr__C':[0.1, 1, 10],\n",
    "}"
   ]
  },
  {
   "cell_type": "code",
   "execution_count": 203,
   "id": "3c1f14be-d11d-4157-be05-6662d7e397c6",
   "metadata": {},
   "outputs": [],
   "source": [
    "svc_params = {\n",
    "    'svc__C':[0.1, 1, 30],\n",
    "    'svc__gamma':[0.01, 0.1, 0.8], \n",
    "    'svc__kernel':['linear'],\n",
    "}"
   ]
  },
  {
   "cell_type": "markdown",
   "id": "53f55848-68a7-4a37-a66d-d7e02602470e",
   "metadata": {},
   "source": [
    "There are some explanation of the parameters:\n",
    "\n",
    "* Alpha is the level of regularization which we intended to  generalize better on unseen data, by preventing the algorithm from overfitting the training dataset.\n",
    "\n",
    "* C is a penalty parameter, which imposes a penalty to the logistic model for having too many variables. This results in shrinking the coefficients of the less contributive variables toward zero.\n",
    "\n",
    "* Gamma defines how far the influence of a single training example reaches, with low values meaning 'far' and high values meaning 'close'. "
   ]
  },
  {
   "cell_type": "markdown",
   "id": "a268538c-e77e-4a31-9325-3f05307cb0f3",
   "metadata": {},
   "source": [
    "### 6. Hyperparameter Tuning"
   ]
  },
  {
   "cell_type": "markdown",
   "id": "f6ecaac4-aef0-4f20-af2b-023fb26d3eee",
   "metadata": {},
   "source": [
    "#### 6a. Logistic Regression with CVEC"
   ]
  },
  {
   "cell_type": "code",
   "execution_count": 171,
   "id": "ec982acf-39bb-41ed-9f2b-c54d65efd1d7",
   "metadata": {},
   "outputs": [
    {
     "name": "stdout",
     "output_type": "stream",
     "text": [
      "Fitting 5 folds for each of 324 candidates, totalling 1620 fits\n",
      "### BEST PARAMS ###\n"
     ]
    },
    {
     "data": {
      "text/plain": [
       "{'cvec__max_df': 0.2,\n",
       " 'cvec__max_features': None,\n",
       " 'cvec__min_df': 3,\n",
       " 'cvec__ngram_range': (1, 1),\n",
       " 'cvec__stop_words': 'english',\n",
       " 'lr__C': 1,\n",
       " 'lr__penalty': 'l2'}"
      ]
     },
     "metadata": {},
     "output_type": "display_data"
    },
    {
     "name": "stdout",
     "output_type": "stream",
     "text": [
      "### METRICS ###\n"
     ]
    },
    {
     "data": {
      "text/plain": [
       "{'model': 'lr',\n",
       " 'vectorizer': 'cvec',\n",
       " 'train': 0.9372990353697749,\n",
       " 'test': 0.8728432108027007,\n",
       " 'roc': 0.5912476400976194,\n",
       " 'precision': 0.6880733944954128}"
      ]
     },
     "metadata": {},
     "output_type": "display_data"
    },
    {
     "name": "stdout",
     "output_type": "stream",
     "text": [
      "True Negatives: 2252\n",
      "False Positives: 34\n",
      "False Negatives: 305\n",
      "True Positives: 75\n"
     ]
    }
   ],
   "source": [
    "# Always stop_words & never trigrams (best_results without model tuning)\n",
    "\n",
    "cvec_lr_gs = run_model('cvec', 'lr', vec_params=cvec_params, mod_params=lr_params, grid_search=True)"
   ]
  },
  {
   "cell_type": "markdown",
   "id": "b69954b6-6e1f-4bc6-89f0-cd6332216256",
   "metadata": {},
   "source": [
    "#### 6b. Logistic Regression with TVEC"
   ]
  },
  {
   "cell_type": "code",
   "execution_count": 172,
   "id": "466094ae-f1a0-44b8-bb20-a93b2c541450",
   "metadata": {},
   "outputs": [
    {
     "name": "stdout",
     "output_type": "stream",
     "text": [
      "Fitting 5 folds for each of 108 candidates, totalling 540 fits\n",
      "### BEST PARAMS ###\n"
     ]
    },
    {
     "data": {
      "text/plain": [
       "{'lr__C': 10,\n",
       " 'lr__penalty': 'l2',\n",
       " 'tvec__max_df': 0.2,\n",
       " 'tvec__max_features': None,\n",
       " 'tvec__min_df': 3,\n",
       " 'tvec__ngram_range': (1, 2),\n",
       " 'tvec__stop_words': 'english'}"
      ]
     },
     "metadata": {},
     "output_type": "display_data"
    },
    {
     "name": "stdout",
     "output_type": "stream",
     "text": [
      "### METRICS ###\n"
     ]
    },
    {
     "data": {
      "text/plain": [
       "{'model': 'lr',\n",
       " 'vectorizer': 'tvec',\n",
       " 'train': 0.9733118971061093,\n",
       " 'test': 0.8724681170292573,\n",
       " 'roc': 0.6250379886724685,\n",
       " 'precision': 0.6162790697674418}"
      ]
     },
     "metadata": {},
     "output_type": "display_data"
    },
    {
     "name": "stdout",
     "output_type": "stream",
     "text": [
      "True Negatives: 2220\n",
      "False Positives: 66\n",
      "False Negatives: 274\n",
      "True Positives: 106\n"
     ]
    }
   ],
   "source": [
    "tvec_lr_gs = run_model('tvec', 'lr', vec_params=tvec_params, mod_params=lr_params, grid_search=True)"
   ]
  },
  {
   "cell_type": "markdown",
   "id": "0103dead-c2b6-482a-b07a-e9f511d6bd39",
   "metadata": {},
   "source": [
    "#### 6c.Support Machine Classifier with TVEC"
   ]
  },
  {
   "cell_type": "code",
   "execution_count": 204,
   "id": "329c5786-636e-49b1-9d81-c6139c9f7490",
   "metadata": {},
   "outputs": [
    {
     "name": "stdout",
     "output_type": "stream",
     "text": [
      "Fitting 5 folds for each of 162 candidates, totalling 810 fits\n",
      "### BEST PARAMS ###\n"
     ]
    },
    {
     "data": {
      "text/plain": [
       "{'svc__C': 1,\n",
       " 'svc__gamma': 0.01,\n",
       " 'svc__kernel': 'linear',\n",
       " 'tvec__max_df': 0.2,\n",
       " 'tvec__max_features': None,\n",
       " 'tvec__min_df': 3,\n",
       " 'tvec__ngram_range': (1, 1),\n",
       " 'tvec__stop_words': 'english'}"
      ]
     },
     "metadata": {},
     "output_type": "display_data"
    },
    {
     "name": "stdout",
     "output_type": "stream",
     "text": [
      "### METRICS ###\n"
     ]
    },
    {
     "data": {
      "text/plain": [
       "{'model': 'svc',\n",
       " 'vectorizer': 'tvec',\n",
       " 'train': 0.9110932475884245,\n",
       " 'test': 0.8728432108027007,\n",
       " 'roc': 0.575888704701386,\n",
       " 'precision': 0.7530864197530864}"
      ]
     },
     "metadata": {},
     "output_type": "display_data"
    },
    {
     "name": "stdout",
     "output_type": "stream",
     "text": [
      "True Negatives: 2266\n",
      "False Positives: 20\n",
      "False Negatives: 319\n",
      "True Positives: 61\n"
     ]
    }
   ],
   "source": [
    "tvec_svc_gs = run_model('tvec', 'svc', vec_params=tvec_params, mod_params=svc_params, grid_search=True)"
   ]
  },
  {
   "cell_type": "markdown",
   "id": "fe0bdb5f-a9d8-4e4e-b8bc-bba811946f21",
   "metadata": {},
   "source": [
    "#### 6d. Support Machine Classifier with CVEC"
   ]
  },
  {
   "cell_type": "code",
   "execution_count": 205,
   "id": "5bf1b4ba-3ac7-40be-83d8-dfb288f2f56d",
   "metadata": {},
   "outputs": [
    {
     "name": "stdout",
     "output_type": "stream",
     "text": [
      "Fitting 5 folds for each of 324 candidates, totalling 1620 fits\n",
      "### BEST PARAMS ###\n"
     ]
    },
    {
     "data": {
      "text/plain": [
       "{'cvec__max_df': 0.2,\n",
       " 'cvec__max_features': None,\n",
       " 'cvec__min_df': 3,\n",
       " 'cvec__ngram_range': (1, 2),\n",
       " 'cvec__stop_words': 'english',\n",
       " 'svc__C': 0.1,\n",
       " 'svc__gamma': 0.01,\n",
       " 'svc__kernel': 'linear'}"
      ]
     },
     "metadata": {},
     "output_type": "display_data"
    },
    {
     "name": "stdout",
     "output_type": "stream",
     "text": [
      "### METRICS ###\n"
     ]
    },
    {
     "data": {
      "text/plain": [
       "{'model': 'svc',\n",
       " 'vectorizer': 'cvec',\n",
       " 'train': 0.8815112540192926,\n",
       " 'test': 0.8623405851462865,\n",
       " 'roc': 0.5258817976700282,\n",
       " 'precision': 0.7241379310344828}"
      ]
     },
     "metadata": {},
     "output_type": "display_data"
    },
    {
     "name": "stdout",
     "output_type": "stream",
     "text": [
      "True Negatives: 2278\n",
      "False Positives: 8\n",
      "False Negatives: 359\n",
      "True Positives: 21\n"
     ]
    }
   ],
   "source": [
    "cvec_svc_gs = run_model('cvec', 'svc', vec_params=cvec_params, mod_params=svc_params, grid_search=True)"
   ]
  },
  {
   "cell_type": "markdown",
   "id": "c33a6297-43ae-4e89-a326-2ab144833159",
   "metadata": {},
   "source": [
    "### 8. Final Model Selection"
   ]
  },
  {
   "cell_type": "code",
   "execution_count": 206,
   "id": "12b1e48d-9938-4d72-95a9-f81be6930909",
   "metadata": {},
   "outputs": [],
   "source": [
    "tuning_df = pd.DataFrame(tuning_list)"
   ]
  },
  {
   "cell_type": "code",
   "execution_count": 214,
   "id": "4323906c-b114-4ad9-b5af-b6a27545eb4e",
   "metadata": {},
   "outputs": [
    {
     "data": {
      "text/html": [
       "<div>\n",
       "<style scoped>\n",
       "    .dataframe tbody tr th:only-of-type {\n",
       "        vertical-align: middle;\n",
       "    }\n",
       "\n",
       "    .dataframe tbody tr th {\n",
       "        vertical-align: top;\n",
       "    }\n",
       "\n",
       "    .dataframe thead th {\n",
       "        text-align: right;\n",
       "    }\n",
       "</style>\n",
       "<table border=\"1\" class=\"dataframe\">\n",
       "  <thead>\n",
       "    <tr style=\"text-align: right;\">\n",
       "      <th></th>\n",
       "      <th>model</th>\n",
       "      <th>vectorizer</th>\n",
       "      <th>train</th>\n",
       "      <th>test</th>\n",
       "      <th>roc</th>\n",
       "      <th>precision</th>\n",
       "    </tr>\n",
       "  </thead>\n",
       "  <tbody>\n",
       "    <tr>\n",
       "      <th>0</th>\n",
       "      <td>lr</td>\n",
       "      <td>cvec</td>\n",
       "      <td>0.937299</td>\n",
       "      <td>0.872843</td>\n",
       "      <td>0.591248</td>\n",
       "      <td>0.688073</td>\n",
       "    </tr>\n",
       "    <tr>\n",
       "      <th>1</th>\n",
       "      <td>lr</td>\n",
       "      <td>cvec</td>\n",
       "      <td>0.937299</td>\n",
       "      <td>0.872843</td>\n",
       "      <td>0.591248</td>\n",
       "      <td>0.688073</td>\n",
       "    </tr>\n",
       "    <tr>\n",
       "      <th>2</th>\n",
       "      <td>svc</td>\n",
       "      <td>tvec</td>\n",
       "      <td>0.911093</td>\n",
       "      <td>0.872843</td>\n",
       "      <td>0.575889</td>\n",
       "      <td>0.753086</td>\n",
       "    </tr>\n",
       "    <tr>\n",
       "      <th>3</th>\n",
       "      <td>svc</td>\n",
       "      <td>tvec</td>\n",
       "      <td>0.911093</td>\n",
       "      <td>0.872843</td>\n",
       "      <td>0.575889</td>\n",
       "      <td>0.753086</td>\n",
       "    </tr>\n",
       "    <tr>\n",
       "      <th>4</th>\n",
       "      <td>lr</td>\n",
       "      <td>tvec</td>\n",
       "      <td>0.973312</td>\n",
       "      <td>0.872468</td>\n",
       "      <td>0.625038</td>\n",
       "      <td>0.616279</td>\n",
       "    </tr>\n",
       "    <tr>\n",
       "      <th>5</th>\n",
       "      <td>lr</td>\n",
       "      <td>tvec</td>\n",
       "      <td>0.973312</td>\n",
       "      <td>0.872468</td>\n",
       "      <td>0.625038</td>\n",
       "      <td>0.616279</td>\n",
       "    </tr>\n",
       "    <tr>\n",
       "      <th>6</th>\n",
       "      <td>svc</td>\n",
       "      <td>cvec</td>\n",
       "      <td>0.893730</td>\n",
       "      <td>0.865341</td>\n",
       "      <td>0.534214</td>\n",
       "      <td>0.818182</td>\n",
       "    </tr>\n",
       "    <tr>\n",
       "      <th>7</th>\n",
       "      <td>svc</td>\n",
       "      <td>cvec</td>\n",
       "      <td>0.881511</td>\n",
       "      <td>0.862341</td>\n",
       "      <td>0.525882</td>\n",
       "      <td>0.724138</td>\n",
       "    </tr>\n",
       "  </tbody>\n",
       "</table>\n",
       "</div>"
      ],
      "text/plain": [
       "  model vectorizer     train      test       roc  precision\n",
       "0    lr       cvec  0.937299  0.872843  0.591248   0.688073\n",
       "1    lr       cvec  0.937299  0.872843  0.591248   0.688073\n",
       "2   svc       tvec  0.911093  0.872843  0.575889   0.753086\n",
       "3   svc       tvec  0.911093  0.872843  0.575889   0.753086\n",
       "4    lr       tvec  0.973312  0.872468  0.625038   0.616279\n",
       "5    lr       tvec  0.973312  0.872468  0.625038   0.616279\n",
       "6   svc       cvec  0.893730  0.865341  0.534214   0.818182\n",
       "7   svc       cvec  0.881511  0.862341  0.525882   0.724138"
      ]
     },
     "execution_count": 214,
     "metadata": {},
     "output_type": "execute_result"
    }
   ],
   "source": [
    "tuning_df.sort_values(by=['test', 'roc'], ascending=False).reset_index(drop=True)"
   ]
  },
  {
   "cell_type": "markdown",
   "id": "a5818c4a-8066-4956-a412-6313a52a82d9",
   "metadata": {},
   "source": [
    "From the finding above, logistic regression with CountVectorizer give the highest train result with 68.8% of R2 accuracy of the test data based on our text features. \n",
    "\n",
    "\n",
    "While the Support Machine Vector model with TfidfVectorizer is better at R2 accuracy which give 75.3% and logistic regression with  TfidfVectorizer give the best AUC-ROC score 62.5%.\n",
    "\n",
    "To summarize, our final model:\n",
    "\n",
    "* uses Tfidf Vectorization with no max feature limit\n",
    "* includes only words or n-grams that appear in at least 4 posts\n",
    "* uses Logistic Regression with Ridge regularization( = 0.1 | C = 10) </i>\n",
    "\n",
    "Our model is still overfitting quite a bit as indicated by the large gap between training and test scores, but this seems to be the limit to which we can push our model."
   ]
  },
  {
   "cell_type": "markdown",
   "id": "8b796ca5-6402-4161-b92e-6359d583a820",
   "metadata": {},
   "source": [
    "### 9. AUC-ROC Curve"
   ]
  },
  {
   "cell_type": "code",
   "execution_count": 208,
   "id": "68bb934d-aaaf-44e4-8d12-d55e57334db2",
   "metadata": {},
   "outputs": [],
   "source": [
    "import matplotlib.pyplot as plt\n",
    "import seaborn as sns"
   ]
  },
  {
   "cell_type": "code",
   "execution_count": 209,
   "id": "882a93c5-fda3-4f98-a502-5c6cb042b726",
   "metadata": {
    "tags": []
   },
   "outputs": [
    {
     "data": {
      "text/plain": [
       "<matplotlib.legend.Legend at 0x289da766a90>"
      ]
     },
     "execution_count": 209,
     "metadata": {},
     "output_type": "execute_result"
    },
    {
     "data": {
      "image/png": "[encoded data removed]",
      "text/plain": [
       "<Figure size 864x720 with 1 Axes>"
      ]
     },
     "metadata": {
      "needs_background": "light"
     },
     "output_type": "display_data"
    }
   ],
   "source": [
    "fig, ax = plt.subplots(1, 1, figsize=(12,10))\n",
    "plot_roc_curve(cvec_lr_gs, X_test, y_test, ax=ax, name='LogisticRegression-CVEC(GS)', color='lightgrey')\n",
    "plot_roc_curve(tvec_svc_gs, X_test, y_test, ax=ax, name='SupportVectorClassifier-TVEC(GS)', color='lightgrey')\n",
    "plot_roc_curve(tvec_lr_gs, X_test, y_test, ax=ax, name='LogisticRegression-TVEC(GS)', color='blue')\n",
    "plot_roc_curve(tvec_lr_gs, X_test, y_test, ax=ax, name='SupportVectorClassifier-CVEC(GS)', color='blue')\n",
    "plt.plot([0, 1], [0, 1], color='black', lw=2, linestyle='--', label='Random Guess')\n",
    "plt.legend()"
   ]
  },
  {
   "cell_type": "markdown",
   "id": "16666dbd-fe96-4baf-b297-ca2a753011d3",
   "metadata": {},
   "source": [
    "From the above, Logistic Regression with CountVectorizer give the highest 0.81  as indicated by the AUC-ROC curve. The other classifiers also perform quite close to the model, but it's clear that our chosen model is generally outperforming the other models at most decision thresholds, apart from the start of the curve."
   ]
  },
  {
   "cell_type": "markdown",
   "id": "9317a8ab-d641-4d6b-9286-a1956216f714",
   "metadata": {},
   "source": [
    "### 10. Model Insights"
   ]
  },
  {
   "cell_type": "code",
   "execution_count": 215,
   "id": "bc65c08d-c752-4d12-bfd6-d13d93dc9c91",
   "metadata": {},
   "outputs": [
    {
     "data": {
      "text/plain": [
       "Pipeline(steps=[('cvec',\n",
       "                 CountVectorizer(max_df=0.2, min_df=3, stop_words='english')),\n",
       "                ('lr', LogisticRegression(C=1, random_state=42))])"
      ]
     },
     "execution_count": 215,
     "metadata": {},
     "output_type": "execute_result"
    }
   ],
   "source": [
    "cvec_lr_gs.best_estimator_\n"
   ]
  },
  {
   "cell_type": "code",
   "execution_count": 216,
   "id": "bdf89786-b16f-41c9-9608-3979b01ee603",
   "metadata": {},
   "outputs": [],
   "source": [
    "coefs = pd.DataFrame(cvec_lr_gs.best_estimator_.steps[1][1].coef_).T\n",
    "coefs.columns = ['coef']\n",
    "coefs['ngram'] = cvec_lr_gs.best_estimator_.steps[0][1].get_feature_names()\n",
    "coefs = coefs[['ngram','coef']]\n",
    "coefs = coefs.sort_values('coef', ascending=True)"
   ]
  },
  {
   "cell_type": "code",
   "execution_count": 217,
   "id": "e9ec8408-dc49-4e44-9d5c-d99e3258d2c7",
   "metadata": {},
   "outputs": [],
   "source": [
    "top_truenews_coefs = coefs.head(15).reset_index(drop=True)\n",
    "top_fakenews_coefs = coefs.tail(15).sort_values(by='coef', ascending=False).reset_index(drop=True)"
   ]
  },
  {
   "cell_type": "code",
   "execution_count": 218,
   "id": "f3907c8b-5261-4798-baf0-dee57616fa1e",
   "metadata": {},
   "outputs": [
    {
     "data": {
      "image/png": "[encoded data removed]",
      "text/plain": [
       "<Figure size 720x720 with 1 Axes>"
      ]
     },
     "metadata": {
      "needs_background": "light"
     },
     "output_type": "display_data"
    }
   ],
   "source": [
    "plt.figure(figsize=(10,10))\n",
    "sns.barplot(data=top_truenews_coefs, x=-top_truenews_coefs['coef'], y='ngram', palette='Reds_r')\n",
    "plt.ylabel('')\n",
    "plt.title('Top 15 Ngrams Correlated with True News', fontsize=20);"
   ]
  },
  {
   "cell_type": "markdown",
   "id": "b01828fb-1ac8-42c8-8687-7d0f54e4f986",
   "metadata": {},
   "source": [
    "From the above, we can see that the word `content` and `arrested` top the correlations in the True News in the r/nottheonion. The word `content` mostly used by the author `Starlight-786` in `r/nottheonion` when he made the post the news. We can see that the authors in this subreddit have a habbit to include this word in the post's title."
   ]
  },
  {
   "cell_type": "code",
   "execution_count": 219,
   "id": "63bb29ad-381f-4522-ad2f-bb41c766f504",
   "metadata": {},
   "outputs": [
    {
     "data": {
      "image/png": "[encoded data removed]",
      "text/plain": [
       "<Figure size 720x720 with 1 Axes>"
      ]
     },
     "metadata": {
      "needs_background": "light"
     },
     "output_type": "display_data"
    }
   ],
   "source": [
    "plt.figure(figsize=(10,10))\n",
    "sns.barplot(data=top_fakenews_coefs, x=top_fakenews_coefs['coef'], y='ngram', palette='Blues_r')\n",
    "plt.xticks(np.arange(0, 6, step=1))\n",
    "plt.ylabel('')\n",
    "plt.title('Top 15 Ngrams Correlated with Fake News', fontsize=20);"
   ]
  },
  {
   "cell_type": "markdown",
   "id": "eacd85a6-5b36-4427-85de-a0014e02c85e",
   "metadata": {},
   "source": [
    "`r/theonion` is much more focus on `nation` and `realizing` which mostly posted by the author `dwaxe`."
   ]
  },
  {
   "cell_type": "markdown",
   "id": "1e72842a-3b7c-448f-82b6-c964368a7b63",
   "metadata": {
    "tags": []
   },
   "source": [
    "### 11. Conclusion"
   ]
  },
  {
   "cell_type": "markdown",
   "id": "48111d0c-dea1-4d33-8c84-a81812babb12",
   "metadata": {},
   "source": [
    "The most optimal model for detecting the fake news is using the logistic regression with CountVectorizer. The optimal parameters for this model are with ngram_range = (1,1) and alpha = 10.\n",
    "\n",
    "* Accuracy: 68.8%\n",
    "* ROC: 59.1%\n",
    "* Train: 93.7%\n",
    "* Test: 87.3%\n",
    "\n",
    "Model sufficiently good to classify posts - 68.8% accuracy with almost 70% of lost data will be recovered correctly."
   ]
  },
  {
   "cell_type": "markdown",
   "id": "47c91d87-7fe5-45ee-8f60-76bf0fe18e01",
   "metadata": {},
   "source": [
    "Limitation:\n",
    "    \n",
    "The major limitation of Logistic Regression is the assumption of linearity between the dependent variable and the independent variables. By using Logistic Regression, non-linear problems can’t be solved because it has a linear decision surface. Logistic Regression should not be used if the number of observations is lesser than the number of features, otherwise, it may lead to overfitting."
   ]
  },
  {
   "cell_type": "markdown",
   "id": "877ef41f-87ed-47b4-93f8-a0af2702d796",
   "metadata": {},
   "source": [
    "Recommendations:\n",
    "    \n",
    "● More data to train model\n",
    "\n",
    "● Examine text more closely\n",
    "\n",
    "    * Remove words that do not provide additional information\n",
    "    \n",
    "● Engineer metadata as additional features\n",
    "\n",
    "    * Character count, word count, sentiment analysis etc"
   ]
  }
 ],
 "metadata": {
  "kernelspec": {
   "display_name": "Python 3",
   "language": "python",
   "name": "python3"
  },
  "language_info": {
   "codemirror_mode": {
    "name": "ipython",
    "version": 3
   },
   "file_extension": ".py",
   "mimetype": "text/x-python",
   "name": "python",
   "nbconvert_exporter": "python",
   "pygments_lexer": "ipython3",
   "version": "3.8.8"
  }
 },
 "nbformat": 4,
 "nbformat_minor": 5
}
